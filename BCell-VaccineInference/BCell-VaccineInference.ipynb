{
 "cells": [
  {
   "cell_type": "code",
   "execution_count": 1,
   "id": "4a218abd-b427-4ba4-97d5-a4b0cfad0879",
   "metadata": {},
   "outputs": [
    {
     "name": "stderr",
     "output_type": "stream",
     "text": [
      "Warning message in readChar(con, 5L, useBytes = TRUE):\n",
      "“cannot open compressed file 'ExampleData.RData', probable reason 'No such file or directory'”"
     ]
    },
    {
     "ename": "ERROR",
     "evalue": "Error in readChar(con, 5L, useBytes = TRUE): cannot open the connection\n",
     "output_type": "error",
     "traceback": [
      "Error in readChar(con, 5L, useBytes = TRUE): cannot open the connection\nTraceback:\n",
      "1. load(\"ExampleData.RData\")",
      "2. readChar(con, 5L, useBytes = TRUE)"
     ]
    }
   ],
   "source": [
    "load('ExampleData.RData')"
   ]
  },
  {
   "cell_type": "code",
   "execution_count": 2,
   "id": "093dc89a-1244-4b79-ab82-fdf86720d700",
   "metadata": {},
   "outputs": [
    {
     "name": "stderr",
     "output_type": "stream",
     "text": [
      "Loading required package: stats4\n",
      "Loading required package: splines\n",
      "Loading required package: mgcv\n",
      "Loading required package: nlme\n",
      "This is mgcv 1.8-28. For overview type 'help(\"mgcv-package\")'.\n",
      "\n",
      "Attaching package: ‘mgcv’\n",
      "\n",
      "The following object is masked from ‘package:VGAM’:\n",
      "\n",
      "    s\n",
      "\n"
     ]
    }
   ],
   "source": [
    "source('Mixture_EM.R')"
   ]
  },
  {
   "cell_type": "code",
   "execution_count": null,
   "id": "cdc1786b-6baa-46e1-9d0d-d8e67665fd4d",
   "metadata": {},
   "outputs": [],
   "source": []
  }
 ],
 "metadata": {
  "kernelspec": {
   "display_name": "R [conda env:r_env]",
   "language": "R",
   "name": "conda-env-r_env-r"
  },
  "language_info": {
   "codemirror_mode": "r",
   "file_extension": ".r",
   "mimetype": "text/x-r-source",
   "name": "R",
   "pygments_lexer": "r",
   "version": "3.6.1"
  }
 },
 "nbformat": 4,
 "nbformat_minor": 5
}
