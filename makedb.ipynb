{
 "cells": [
  {
   "cell_type": "markdown",
   "id": "f3b243cb-2f23-4d74-9d3b-ff8ab8b17987",
   "metadata": {
    "tags": []
   },
   "source": [
    "## makedb\n",
    "\n",
    "为每一条V germline, J germline, junction nucleotides sequence, cdr3 nucleotides sequence制作比对库"
   ]
  },
  {
   "cell_type": "code",
   "execution_count": 1,
   "id": "60dad883-fdc4-440e-b423-dc3956ae5b08",
   "metadata": {},
   "outputs": [],
   "source": [
    "# load V genmline sequence\n",
    "import csv\n",
    "\n",
    "import pandas as pd\n",
    "from pathlib import Path"
   ]
  },
  {
   "cell_type": "code",
   "execution_count": 7,
   "id": "f25d9537-b306-4141-9962-8d7ef6a432da",
   "metadata": {},
   "outputs": [
    {
     "data": {
      "text/plain": [
       "[PosixPath('/data/ab01/standard_dataset/processed_dataset/CM000/CM000_train_clone-pass_germ-pass.tsv'),\n",
       " PosixPath('/data/ab01/standard_dataset/processed_dataset/CM001/CM001_train_clone-pass_germ-pass.tsv'),\n",
       " PosixPath('/data/ab01/standard_dataset/processed_dataset/CM002/CM002_train_clone-pass_germ-pass.tsv'),\n",
       " PosixPath('/data/ab01/standard_dataset/processed_dataset/CM003/CM003_train_clone-pass_germ-pass.tsv')]"
      ]
     },
     "execution_count": 7,
     "metadata": {},
     "output_type": "execute_result"
    }
   ],
   "source": [
    "# 数据目录\n",
    "root = Path('/data/ab01/standard_dataset/processed_dataset')\n",
    "train_data_paths = [root/f'CM00{i}'/f'CM00{i}_train_clone-pass_germ-pass.tsv' for i in [0,1,2,3]]\n",
    "valid_data_paths = [root/f'CM00{i}'/f'CM00{i}_valid_clone-pass.tsv' for i in [1,2,3]]\n",
    "\n",
    "train_data_paths"
   ]
  },
  {
   "cell_type": "code",
   "execution_count": 8,
   "id": "3e7ed935-c9f9-43a1-b2df-febfbcfe3d8c",
   "metadata": {},
   "outputs": [
    {
     "data": {
      "text/plain": [
       "[PosixPath('/data/ab01/standard_dataset/processed_dataset/CM001/CM001_valid_clone-pass.tsv'),\n",
       " PosixPath('/data/ab01/standard_dataset/processed_dataset/CM002/CM002_valid_clone-pass.tsv'),\n",
       " PosixPath('/data/ab01/standard_dataset/processed_dataset/CM003/CM003_valid_clone-pass.tsv')]"
      ]
     },
     "execution_count": 8,
     "metadata": {},
     "output_type": "execute_result"
    }
   ],
   "source": [
    "valid_data_paths"
   ]
  },
  {
   "cell_type": "code",
   "execution_count": 9,
   "id": "27fa8193-2dc6-48d3-b618-3510e5a5c444",
   "metadata": {},
   "outputs": [],
   "source": [
    "files = train_data_paths[:]\n",
    "files.extend(valid_data_paths)\n",
    "\n",
    "v_germline_alignment_set = []\n",
    "j_germline_alignment_set = []\n",
    "cdr3_seq_set = []\n",
    "junction_seq_set = []\n",
    "\n",
    "for file in files:\n",
    "    df0 = pd.read_csv(file, sep='\\t')\n",
    "    df0['v_germline_len'] = df0['v_germline_alignment'].apply(lambda x: len(x))\n",
    "    df0['j_germline_len'] = df0['j_germline_alignment'].apply(lambda x: len(x))\n",
    "    df0['cdr3_seq_len'] = df0['cdr3'].apply(lambda x: len(x))\n",
    "    df0['junction_seq_len'] = df0['junction'].apply(lambda x: len(x))\n",
    "    \n",
    "    v_germline_alignment_set.extend(df0['v_germline_alignment'])\n",
    "    j_germline_alignment_set.extend(df0['j_germline_alignment'])\n",
    "    cdr3_seq_set.extend(df0['cdr3'])\n",
    "    junction_seq_set.extend(df0['junction'])\n",
    "    \n",
    "    df0 = df0.where(pd.notnull(df0), None)\n",
    "    with open(f'./data/processed_data/{file.name}', 'w') as f:\n",
    "        f_csv = csv.writer(f, delimiter='\\t')\n",
    "        f_csv.writerow(df0.columns)\n",
    "        f_csv.writerows(df0.values)"
   ]
  },
  {
   "cell_type": "code",
   "execution_count": 14,
   "id": "9d9e5ae6-17f3-4703-84e6-7d2d1518041a",
   "metadata": {},
   "outputs": [
    {
     "name": "stdout",
     "output_type": "stream",
     "text": [
      "47032 17256\n"
     ]
    }
   ],
   "source": [
    "print(len(junction_seq_set), len(set(junction_seq_set)))"
   ]
  },
  {
   "cell_type": "code",
   "execution_count": 19,
   "id": "a7039401-424e-4ed8-ab0e-649662a3d662",
   "metadata": {},
   "outputs": [
    {
     "name": "stdout",
     "output_type": "stream",
     "text": [
      "331\n"
     ]
    }
   ],
   "source": [
    "print(len(j_germline_alignment_set))"
   ]
  },
  {
   "cell_type": "code",
   "execution_count": 17,
   "id": "2311199a-ac9c-417d-9f82-41342a392eaf",
   "metadata": {},
   "outputs": [],
   "source": [
    "v_germline_alignment_set = set(v_germline_alignment_set)\n",
    "j_germline_alignment_set = set(j_germline_alignment_set)\n",
    "cdr3_seq_set = set(cdr3_seq_set)\n",
    "junction_seq_set = set(junction_seq_set)\n",
    "\n",
    "# save V_germline\n",
    "with open('data/processed_data/fasta/V_germline.fasta', 'a+') as f1:\n",
    "    for i,item in enumerate(v_germline_alignment_set):\n",
    "        f1.write(f'>IGHV_{i}\\n')\n",
    "        f1.write(item+'\\n')\n",
    "# save J_germline\n",
    "with open('data/processed_data/fasta/J_germline.fasta', 'a+') as f2:\n",
    "    for i,item in enumerate(j_germline_alignment_set):\n",
    "        f2.write(f'>IGHJ_{i}\\n')\n",
    "        f2.write(item+'\\n')\n",
    "# save cdr3 nucleotide sequence\n",
    "with open('data/processed_data/fasta/cdr3_sequence.fasta', 'a+') as f3:\n",
    "    for i,item in enumerate(cdr3_seq_set):\n",
    "        f3.write(f'>cdr3_{i}\\n')\n",
    "        f3.write(item+'\\n')\n",
    "# save junction nucleotide sequence\n",
    "with open('data/processed_data/fasta/junction_sequence.fasta', 'a+') as f4:\n",
    "    for i,item in enumerate(junction_seq_set):\n",
    "        f4.write(f'>junction_{i}\\n')\n",
    "        f4.write(item+'\\n')"
   ]
  },
  {
   "cell_type": "markdown",
   "id": "67b07ea1-de01-45ec-8da5-eed9abab7b0b",
   "metadata": {},
   "source": [
    "## clonal lineage\n",
    "> Reference: https://www.pnas.org/cgi/doi/10.1073/pnas.1814213116)\n",
    "\n",
    "### step1\n",
    "group same germline length V and J germline sequences using a cutoff of 90% sequence identity\n",
    "\n",
    "\n",
    "### setp2\n",
    "\n",
    "Within each group, performing single-linkage clustering on the CDR3 sequence using a cutoff of 90% sequence identity"
   ]
  },
  {
   "cell_type": "code",
   "execution_count": null,
   "id": "0e660f5f-340e-44cf-bfb7-d7860b3dd57f",
   "metadata": {},
   "outputs": [],
   "source": []
  },
  {
   "cell_type": "code",
   "execution_count": null,
   "id": "370473ab-e255-40aa-ba23-2d92b1a3feb8",
   "metadata": {},
   "outputs": [],
   "source": [
    "for file in files:\n",
    "    df0 = pd.read_csv(file, sep='\\t')\n",
    "    df0['cdr3_len'] = df0['cdr3'].apply(lambda x: len(x))\n",
    "    # df0['germline_v_call_without_allele'] = df0['germline_v_call'].apply(lambda x: x.split('*')[0] if x else None)\n",
    "    # df0['germline_j_call_without_allele'] = df0['germline_j_call'].apply(lambda x: x.split('*')[0] if x else None)\n",
    "    \n",
    "    grouped = df0.groupby(by=['v_germline_alignment', 'j_germline_alignment', 'cdr3_len'])\n",
    "    # grouped2 = df0.groupby(by=['germline_v_call', 'germline_j_call', 'cdr3_len'])\n",
    "    df0['group_id_by_germline_seq'] = None\n",
    "    \n",
    "    group_id = 0\n",
    "    for key, idx in grouped.groups.items():\n",
    "        group_id+=1\n",
    "        df0.loc[idx, 'group_id_by_germline_seq'] = group_id\n",
    "    \n",
    "    df0 = df0.where(pd.notnull(df0), None)\n",
    "    with open(f'data/processed_data/{file.name}', 'w') as f:\n",
    "        f_csv = csv.writer(f, delimiter='\\t')\n",
    "        f_csv.writerow(df0.columns)\n",
    "        f_csv.writerows(df0.values)"
   ]
  }
 ],
 "metadata": {
  "kernelspec": {
   "display_name": "Python [conda env:automl] *",
   "language": "python",
   "name": "conda-env-automl-py"
  },
  "language_info": {
   "codemirror_mode": {
    "name": "ipython",
    "version": 3
   },
   "file_extension": ".py",
   "mimetype": "text/x-python",
   "name": "python",
   "nbconvert_exporter": "python",
   "pygments_lexer": "ipython3",
   "version": "3.7.11"
  }
 },
 "nbformat": 4,
 "nbformat_minor": 5
}
